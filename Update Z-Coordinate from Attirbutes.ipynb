{
 "cells": [
  {
   "cell_type": "code",
   "execution_count": 1,
   "metadata": {},
   "outputs": [],
   "source": [
    "#Enter Feature Name\n",
    "x = \"Contours_Topo_1m_31_07_2023_v2\"\n"
   ]
  },
  {
   "cell_type": "code",
   "execution_count": 2,
   "metadata": {},
   "outputs": [],
   "source": [
    "updateFields = ['SHAPE@XYZ','elevation']"
   ]
  },
  {
   "cell_type": "code",
   "execution_count": null,
   "metadata": {
    "collapsed": true
   },
   "outputs": [],
   "source": [
    " with arcpy.da.UpdateCursor(x,updateFields) as parcelCursor:\n",
    "    for row in parcelCursor:\n",
    "        centerpoint = arcpy.Point()\n",
    "        centerpoint.X = row[0][0]\n",
    "        centerpoint.Y = row[0][1]\n",
    "        centerpoint.Z = row[0][2]\n",
    "        print(centerpoint.X,centerpoint.Y, centerpoint.Z )\n",
    "#         print(centerpoint.Y )\n",
    "#         print(centerpoint.Z )\n",
    "        \n",
    "#         row[0] = [centerpoint.X , centerpoint.Y, centerpoint.Z ]\n",
    "        \n",
    "#         parcelCursor.updateRow(row)"
   ]
  },
  {
   "cell_type": "code",
   "execution_count": null,
   "metadata": {},
   "outputs": [],
   "source": [
    "with arcpy.da.UpdateCursor(x, updateFields) as cursor:\n",
    "    for row in cursor:\n",
    "        newGeom = arcpy.Array()\n",
    "        for part in row[0].getPart():\n",
    "            newPart = arcpy.Array()\n",
    "            for pnt in part:\n",
    "                if pnt != None:\n",
    "                    newPnt = arcpy.Point(pnt.X, pnt.Y, row[1])\n",
    "                    newPart.add(newPnt)\n",
    "            newGeom.add(newPart)\n",
    "        newShape = arcpy.Polyline(newGeom, None,  True, False)\n",
    "        row[0] = newShape\n",
    "        cursor.updateRow(row)"
   ]
  }
 ],
 "metadata": {
  "kernelspec": {
   "display_name": "Python 3",
   "language": "python",
   "name": "python3"
  },
  "language_info": {
   "codemirror_mode": {
    "name": "ipython",
    "version": 3
   },
   "file_extension": ".py",
   "mimetype": "text/x-python",
   "name": "python",
   "nbconvert_exporter": "python",
   "pygments_lexer": "ipython3",
   "version": "3.11.3"
  }
 },
 "nbformat": 4,
 "nbformat_minor": 2
}
